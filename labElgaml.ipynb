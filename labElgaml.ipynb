{
 "cells": [
  {
   "cell_type": "code",
   "execution_count": 2,
   "id": "a7cc5b62",
   "metadata": {},
   "outputs": [
    {
     "name": "stdout",
     "output_type": "stream",
     "text": [
      "Public Key: alpha = 210, beta = 104\n",
      "Ciphertext: y1 = 539, y2 = 473\n",
      "Decrypted Message: 12345\n"
     ]
    }
   ],
   "source": [
    "import random\n",
    "\n",
    "def generate_key_pair(p):\n",
    "    # Choose a random integer a as the private key\n",
    "    a = random.randint(2, p-2)\n",
    "    # Choose a primitive element alpha mod p\n",
    "    alpha = random.randint(2, p-1)\n",
    "    while pow(alpha, (p-1)//2, p) == 1 or pow(alpha, (p-1)//3, p) == 1:\n",
    "        alpha = random.randint(2, p-1)\n",
    "    # Compute beta = alpha^a mod p as the public key\n",
    "    beta = pow(alpha, a, p)\n",
    "    return alpha, beta, a\n",
    "\n",
    "def encrypt(p, alpha, beta, x):\n",
    "    # Choose a random integer k as the encryption key\n",
    "    k = random.randint(2, p-2)\n",
    "    # Compute y1 = alpha^k mod p and y2 = x*beta^k mod p\n",
    "    y1 = pow(alpha, k, p)\n",
    "    y2 = (x*pow(beta, k)) % p\n",
    "    return y1, y2\n",
    "\n",
    "def decrypt(p, alpha, a, y1, y2):\n",
    "    # Compute the shared secret s = y1^a mod p\n",
    "    s = pow(y1, a)\n",
    "    # Compute the plaintext x = y2 * s^-1 mod p\n",
    "    #x = (y2*pow(s, p-2, p)) % p\n",
    "    for i in range(1,100):\n",
    "        if ((s * i) % 13 == 1):\n",
    "            h= i\n",
    "            break\n",
    "    ans = (y2 * h) % 13\n",
    "    return x\n",
    "\n",
    "# Example usage\n",
    "p = 541 # prime number\n",
    "alpha, beta, a = generate_key_pair(p)\n",
    "print(\"Public Key: alpha = {}, beta = {}\".format(alpha, beta))\n",
    "x = 12345 # message to be encrypted\n",
    "y1, y2 = encrypt(p, alpha, beta, x)\n",
    "print(\"Ciphertext: y1 = {}, y2 = {}\".format(y1, y2))\n",
    "decrypted_x = decrypt(p, alpha, a, y1, y2)\n",
    "print(\"Decrypted Message:\", decrypted_x)"
   ]
  },
  {
   "cell_type": "code",
   "execution_count": null,
   "id": "398243c1",
   "metadata": {},
   "outputs": [],
   "source": []
  }
 ],
 "metadata": {
  "kernelspec": {
   "display_name": "Python 3 (ipykernel)",
   "language": "python",
   "name": "python3"
  },
  "language_info": {
   "codemirror_mode": {
    "name": "ipython",
    "version": 3
   },
   "file_extension": ".py",
   "mimetype": "text/x-python",
   "name": "python",
   "nbconvert_exporter": "python",
   "pygments_lexer": "ipython3",
   "version": "3.9.13"
  }
 },
 "nbformat": 4,
 "nbformat_minor": 5
}
